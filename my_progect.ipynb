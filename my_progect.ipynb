{
 "cells": [
  {
   "cell_type": "code",
   "execution_count": 25,
   "id": "225556d2-a035-405a-ae9e-7694d4a95d7f",
   "metadata": {},
   "outputs": [],
   "source": [
    "# Для очистки поля\n",
    "from IPython.display import clear_output\n",
    "\n",
    "def display_board(board):\n",
    "    \"\"\" создание игрового поле\"\"\"\n",
    "    clear_output()\n",
    "    \n",
    "    print('   |   |')\n",
    "    print(' ' + board[7] + ' | ' + board[8] + ' | ' + board[9])\n",
    "    print('   |   |')\n",
    "    print('-----------')\n",
    "    print('   |   |')\n",
    "    print(' ' + board[4] + ' | ' + board[5] + ' | ' + board[6])\n",
    "    print('   |   |')\n",
    "    print('-----------')\n",
    "    print('   |   |')\n",
    "    print(' ' + board[1] + ' | ' + board[2] + ' | ' + board[3])\n",
    "    print('   |   |')"
   ]
  },
  {
   "cell_type": "code",
   "execution_count": 26,
   "id": "e0b2c68f-eab3-44a7-ad82-990bc968b87d",
   "metadata": {},
   "outputs": [
    {
     "name": "stdout",
     "output_type": "stream",
     "text": [
      "   |   |\n",
      " X | O | X\n",
      "   |   |\n",
      "-----------\n",
      "   |   |\n",
      " O | X | O\n",
      "   |   |\n",
      "-----------\n",
      "   |   |\n",
      " X | O | X\n",
      "   |   |\n"
     ]
    }
   ],
   "source": [
    "test_board = ['#','X','O','X','O','X','O','X','O','X']\n",
    "display_board(test_board)"
   ]
  },
  {
   "cell_type": "code",
   "execution_count": 27,
   "id": "73cdd356-fc9b-494d-b8ba-a05e4812e18e",
   "metadata": {},
   "outputs": [],
   "source": [
    "def player_input():\n",
    "    \"\"\" выбор марок для игры \"\"\"\n",
    "    marker = ''\n",
    "    \n",
    "    while not (marker == 'X' or marker == 'O'):\n",
    "        marker = input('Игрок 1: Кем Вы хотите играть, X или O? ').upper()\n",
    "\n",
    "    if marker == 'X':\n",
    "        return ('X', 'O')\n",
    "    else:\n",
    "        return ('O', 'X')"
   ]
  },
  {
   "cell_type": "code",
   "execution_count": 30,
   "id": "129ef64a-b296-4d0f-9bde-f2c6919066cc",
   "metadata": {},
   "outputs": [
    {
     "name": "stdin",
     "output_type": "stream",
     "text": [
      "Игрок 1: Кем Вы хотите играть, X или O?  x\n"
     ]
    },
    {
     "data": {
      "text/plain": [
       "('X', 'O')"
      ]
     },
     "execution_count": 30,
     "metadata": {},
     "output_type": "execute_result"
    }
   ],
   "source": [
    "player_input()"
   ]
  },
  {
   "cell_type": "code",
   "execution_count": 31,
   "id": "1c9d7c70-2544-4cd1-bd84-17632c699645",
   "metadata": {},
   "outputs": [],
   "source": [
    "def place_marker(board, marker, position):\n",
    "    \"\"\" Присвоения марок к нашему игровому полю \"\"\"\n",
    "    board[position] = marker"
   ]
  },
  {
   "cell_type": "code",
   "execution_count": 32,
   "id": "dff35524-1c12-464a-930b-06c6eb277ade",
   "metadata": {},
   "outputs": [],
   "source": [
    "def win_check(board,mark):\n",
    "    \"\"\" условия для победы \"\"\"\n",
    "    \n",
    "    return ((board[7] == mark and board[8] == mark and board[9] == mark) or # горизонталь сверху\n",
    "    (board[4] == mark and board[5] == mark and board[6] == mark) or # горизонталь в середине\n",
    "    (board[1] == mark and board[2] == mark and board[3] == mark) or # горизонталь снизу\n",
    "    (board[7] == mark and board[4] == mark and board[1] == mark) or # вертикаль слева\n",
    "    (board[8] == mark and board[5] == mark and board[2] == mark) or # вертикаль в середине\n",
    "    (board[9] == mark and board[6] == mark and board[3] == mark) or # вертикаль справа\n",
    "    (board[7] == mark and board[5] == mark and board[3] == mark) or # диагональ\n",
    "    (board[9] == mark and board[5] == mark and board[1] == mark)) # диагональ"
   ]
  },
  {
   "cell_type": "code",
   "execution_count": 33,
   "id": "8986e3e5-6ed8-4afe-a105-11b98d0bcf7a",
   "metadata": {},
   "outputs": [
    {
     "data": {
      "text/plain": [
       "True"
      ]
     },
     "execution_count": 33,
     "metadata": {},
     "output_type": "execute_result"
    }
   ],
   "source": [
    "win_check(test_board,'X')"
   ]
  },
  {
   "cell_type": "code",
   "execution_count": 34,
   "id": "2a713bb6-ddf7-4784-893e-ad1929d368e2",
   "metadata": {},
   "outputs": [],
   "source": [
    "import random\n",
    "\n",
    "def choose_first():\n",
    "    \"\"\" выбор первого хода \"\"\"\n",
    "    \n",
    "    if random.randint(0, 1) == 0:\n",
    "        return 'Игрок 2'\n",
    "    else:\n",
    "        return 'Игрок 1'"
   ]
  },
  {
   "cell_type": "code",
   "execution_count": 35,
   "id": "0f6bee6b-3542-4aee-b7dc-27ea2acc0e8d",
   "metadata": {},
   "outputs": [],
   "source": [
    "def space_check(board, position):\n",
    "    \"\"\" проверка на пустотность ячейки в случение повторного числа \"\"\"\n",
    "    \n",
    "    return board[position] == ' '"
   ]
  },
  {
   "cell_type": "code",
   "execution_count": 36,
   "id": "48c280b3-58e5-4e41-bb7f-edfd3aa55118",
   "metadata": {},
   "outputs": [],
   "source": [
    "def full_board_check(board):\n",
    "    \"\"\" проверка на пустотность ячейки в случение повторного числа \"\"\"\n",
    "    for i in range(1,10):\n",
    "        if space_check(board, i):\n",
    "            return False\n",
    "    return True"
   ]
  },
  {
   "cell_type": "code",
   "execution_count": 37,
   "id": "70098df3-4987-41a9-8d1c-d0047caa3e03",
   "metadata": {},
   "outputs": [],
   "source": [
    "def player_choice(board):\n",
    "    \"\"\" цикл в случае, если пользователь выбирает уже заполненную ячейку \"\"\"\n",
    "    position = 0\n",
    "    \n",
    "    while position not in [1,2,3,4,5,6,7,8,9] or not space_check(board, position):\n",
    "        position = int(input('Выберите следующую клетку: (1-9) '))\n",
    "        \n",
    "    return position"
   ]
  },
  {
   "cell_type": "code",
   "execution_count": 38,
   "id": "4d17c664-343c-4b40-96f6-705cabf78300",
   "metadata": {},
   "outputs": [],
   "source": [
    "def replay():\n",
    "    \"\"\" Будет ли ещё играть игроки \"\"\"\n",
    "    \n",
    "    return input('Вы хотите сыграть снова? Yes или No: ').lower().startswith('y')"
   ]
  },
  {
   "cell_type": "code",
   "execution_count": 39,
   "id": "725f072a-f471-4fb9-93ae-8c764e0d0cb5",
   "metadata": {},
   "outputs": [
    {
     "name": "stdout",
     "output_type": "stream",
     "text": [
      "   |   |\n",
      " O | X | X\n",
      "   |   |\n",
      "-----------\n",
      "   |   |\n",
      " O | X | O\n",
      "   |   |\n",
      "-----------\n",
      "   |   |\n",
      " O |   | X\n",
      "   |   |\n",
      "Игрок 2 выиграл!\n"
     ]
    },
    {
     "name": "stdin",
     "output_type": "stream",
     "text": [
      "Вы хотите сыграть снова? Yes или No:  no\n"
     ]
    }
   ],
   "source": [
    "import time\n",
    "print('Добро пожаловать в игру Крестики-Нолики!')\n",
    "time.sleep(0.2)\n",
    "\n",
    "while True:\n",
    "    # Настройка игры\n",
    "    theBoard = [' '] * 10\n",
    "    player1_marker, player2_marker = player_input()\n",
    "    turn = choose_first()\n",
    "    print('Первым ходит ' + turn + '.')\n",
    "    \n",
    "    play_game = input('Вы готовы играть? Введите Yes или No.')\n",
    "    \n",
    "    if play_game.lower()[0] == 'y':\n",
    "        game_on = True\n",
    "    else:\n",
    "        game_on = False\n",
    "\n",
    "    while game_on:\n",
    "        if turn == 'Игрок 1':\n",
    "            # Ход Игрока 1\n",
    "            \n",
    "            display_board(theBoard)\n",
    "            position = player_choice(theBoard)\n",
    "            place_marker(theBoard, player1_marker, position)\n",
    "\n",
    "            if win_check(theBoard, player1_marker):\n",
    "                display_board(theBoard)\n",
    "                print('Поздравляю! Вы выиграли!')\n",
    "                game_on = False\n",
    "            else:\n",
    "                if full_board_check(theBoard):\n",
    "                    display_board(theBoard)\n",
    "                    print('Ничья!')\n",
    "                    break\n",
    "                else:\n",
    "                    turn = 'Игрок 2'\n",
    "\n",
    "        else:\n",
    "            # Ход Игрока 2\n",
    "            \n",
    "            display_board(theBoard)\n",
    "            position = player_choice(theBoard)\n",
    "            place_marker(theBoard, player2_marker, position)\n",
    "\n",
    "            if win_check(theBoard, player2_marker):\n",
    "                display_board(theBoard)\n",
    "                print('Игрок 2 выиграл!')\n",
    "                game_on = False\n",
    "            else:\n",
    "                if full_board_check(theBoard):\n",
    "                    display_board(theBoard)\n",
    "                    print('Ничья!')\n",
    "                    break\n",
    "                else:\n",
    "                    turn = 'Игрок 1'\n",
    "\n",
    "    if not replay():\n",
    "        break"
   ]
  },
  {
   "cell_type": "code",
   "execution_count": null,
   "id": "acb48d5b-da52-4551-864a-45293f4c9753",
   "metadata": {},
   "outputs": [],
   "source": []
  }
 ],
 "metadata": {
  "kernelspec": {
   "display_name": "Python 3 (ipykernel)",
   "language": "python",
   "name": "python3"
  },
  "language_info": {
   "codemirror_mode": {
    "name": "ipython",
    "version": 3
   },
   "file_extension": ".py",
   "mimetype": "text/x-python",
   "name": "python",
   "nbconvert_exporter": "python",
   "pygments_lexer": "ipython3",
   "version": "3.12.4"
  }
 },
 "nbformat": 4,
 "nbformat_minor": 5
}
